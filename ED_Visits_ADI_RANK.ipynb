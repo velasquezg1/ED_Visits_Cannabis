{
 "cells": [
  {
   "cell_type": "code",
   "execution_count": 58,
   "metadata": {},
   "outputs": [],
   "source": [
    "import pandas as pd\n",
    "import numpy as np"
   ]
  },
  {
   "cell_type": "code",
   "execution_count": 66,
   "metadata": {},
   "outputs": [
    {
     "data": {
      "text/html": [
       "<div>\n",
       "<style scoped>\n",
       "    .dataframe tbody tr th:only-of-type {\n",
       "        vertical-align: middle;\n",
       "    }\n",
       "\n",
       "    .dataframe tbody tr th {\n",
       "        vertical-align: top;\n",
       "    }\n",
       "\n",
       "    .dataframe thead th {\n",
       "        text-align: right;\n",
       "    }\n",
       "</style>\n",
       "<table border=\"1\" class=\"dataframe\">\n",
       "  <thead>\n",
       "    <tr style=\"text-align: right;\">\n",
       "      <th></th>\n",
       "      <th>TYPE</th>\n",
       "      <th>ZIPID</th>\n",
       "      <th>GEOID10</th>\n",
       "      <th>GISJOIN</th>\n",
       "      <th>ADI_STATERNK</th>\n",
       "      <th>ADI_NATRANK</th>\n",
       "    </tr>\n",
       "  </thead>\n",
       "  <tbody>\n",
       "    <tr>\n",
       "      <th>0</th>\n",
       "      <td>P</td>\n",
       "      <td>G894398001</td>\n",
       "      <td>3.203100e+11</td>\n",
       "      <td>G32003100023022</td>\n",
       "      <td>P</td>\n",
       "      <td>P</td>\n",
       "    </tr>\n",
       "    <tr>\n",
       "      <th>1</th>\n",
       "      <td>P</td>\n",
       "      <td>G894398004</td>\n",
       "      <td>3.203100e+11</td>\n",
       "      <td>G32003100023022</td>\n",
       "      <td>P</td>\n",
       "      <td>P</td>\n",
       "    </tr>\n",
       "    <tr>\n",
       "      <th>2</th>\n",
       "      <td>P</td>\n",
       "      <td>G894398000</td>\n",
       "      <td>3.203100e+11</td>\n",
       "      <td>G32003100023022</td>\n",
       "      <td>P</td>\n",
       "      <td>P</td>\n",
       "    </tr>\n",
       "    <tr>\n",
       "      <th>3</th>\n",
       "      <td>P</td>\n",
       "      <td>G894398005</td>\n",
       "      <td>3.203100e+11</td>\n",
       "      <td>G32003100023022</td>\n",
       "      <td>P</td>\n",
       "      <td>P</td>\n",
       "    </tr>\n",
       "    <tr>\n",
       "      <th>4</th>\n",
       "      <td>P</td>\n",
       "      <td>G894398003</td>\n",
       "      <td>3.203100e+11</td>\n",
       "      <td>G32003100023022</td>\n",
       "      <td>P</td>\n",
       "      <td>P</td>\n",
       "    </tr>\n",
       "  </tbody>\n",
       "</table>\n",
       "</div>"
      ],
      "text/plain": [
       "  TYPE       ZIPID       GEOID10          GISJOIN ADI_STATERNK ADI_NATRANK\n",
       "0    P  G894398001  3.203100e+11  G32003100023022            P           P\n",
       "1    P  G894398004  3.203100e+11  G32003100023022            P           P\n",
       "2    P  G894398000  3.203100e+11  G32003100023022            P           P\n",
       "3    P  G894398005  3.203100e+11  G32003100023022            P           P\n",
       "4    P  G894398003  3.203100e+11  G32003100023022            P           P"
      ]
     },
     "execution_count": 66,
     "metadata": {},
     "output_type": "execute_result"
    }
   ],
   "source": [
    "ca_adi_pd = pd.read_csv(\"CA_2013_ADI_9 Digit Zip Code.txt\")\n",
    "ca_adi_pd.head()"
   ]
  },
  {
   "cell_type": "code",
   "execution_count": 67,
   "metadata": {},
   "outputs": [],
   "source": [
    "ca_adi_pd[\"Zip\"] = ca_adi_pd[\"ZIPID\"].str[1:6]\n",
    "ca_adi_pd.sort_values('Zip')\n",
    "ca_adi_zip_pd = ca_adi_pd.drop([0,1,2,3,4,5,6,7,8,9])"
   ]
  },
  {
   "cell_type": "code",
   "execution_count": 68,
   "metadata": {},
   "outputs": [],
   "source": [
    "ca_adi_zip_pd = ca_adi_zip_pd[['Zip','ADI_STATERNK','ADI_NATRANK']]\n",
    "\n",
    "# Remove non-integer records from State and Natl rank columns\n",
    "non_int = ['U','P', np.nan]\n",
    "ca_adi_zip_pd = ca_adi_zip_pd[~ca_adi_zip_pd['ADI_STATERNK'].isin(non_int)]\n",
    "\n",
    "# Convert Rankings to Integer so that they can be averaged for the groupby\n",
    "ca_adi_zip_pd['ADI_STATERNK'] = ca_adi_zip_pd['ADI_STATERNK'].apply(pd.to_numeric)\n",
    "ca_adi_zip_pd['ADI_NATRANK'] = ca_adi_zip_pd['ADI_NATRANK'].apply(pd.to_numeric)"
   ]
  },
  {
   "cell_type": "code",
   "execution_count": 69,
   "metadata": {},
   "outputs": [],
   "source": [
    "ca_adi_zip_gr = ca_adi_zip_pd.groupby([\"Zip\"])\n",
    "ca_adi_df = ca_adi_zip_gr.mean()\n",
    "ca_adi_df.to_csv(f\"CA_ADI_by_ZIP.csv\", encoding='utf-8')"
   ]
  },
  {
   "cell_type": "code",
   "execution_count": null,
   "metadata": {},
   "outputs": [],
   "source": []
  }
 ],
 "metadata": {
  "kernelspec": {
   "display_name": "Python [conda env:PythonData]",
   "language": "python",
   "name": "conda-env-PythonData-py"
  },
  "language_info": {
   "codemirror_mode": {
    "name": "ipython",
    "version": 3
   },
   "file_extension": ".py",
   "mimetype": "text/x-python",
   "name": "python",
   "nbconvert_exporter": "python",
   "pygments_lexer": "ipython3",
   "version": "3.6.5"
  }
 },
 "nbformat": 4,
 "nbformat_minor": 2
}
