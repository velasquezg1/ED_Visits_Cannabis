{
 "cells": [
  {
   "cell_type": "code",
   "execution_count": 49,
   "metadata": {},
   "outputs": [],
   "source": [
    "import pandas as pd"
   ]
  },
  {
   "cell_type": "markdown",
   "metadata": {},
   "source": [
    "# Data Sources"
   ]
  },
  {
   "cell_type": "code",
   "execution_count": 50,
   "metadata": {},
   "outputs": [
    {
     "data": {
      "text/html": [
       "<div>\n",
       "<style scoped>\n",
       "    .dataframe tbody tr th:only-of-type {\n",
       "        vertical-align: middle;\n",
       "    }\n",
       "\n",
       "    .dataframe tbody tr th {\n",
       "        vertical-align: top;\n",
       "    }\n",
       "\n",
       "    .dataframe thead th {\n",
       "        text-align: right;\n",
       "    }\n",
       "</style>\n",
       "<table border=\"1\" class=\"dataframe\">\n",
       "  <thead>\n",
       "    <tr style=\"text-align: right;\">\n",
       "      <th></th>\n",
       "      <th>Unnamed: 0</th>\n",
       "      <th>Zip</th>\n",
       "      <th>County</th>\n",
       "      <th>State</th>\n",
       "      <th>Year</th>\n",
       "      <th>Total Pop</th>\n",
       "      <th>Male Pop</th>\n",
       "      <th>Pct Male</th>\n",
       "      <th>Female Pop</th>\n",
       "      <th>Pct Female</th>\n",
       "      <th>...</th>\n",
       "      <th>AS per 1,000</th>\n",
       "      <th>ED per 1,000</th>\n",
       "      <th>IP per 1,000</th>\n",
       "      <th>IP via ED per 1,000</th>\n",
       "      <th>C2 per 1,000</th>\n",
       "      <th>C3 per 1,000</th>\n",
       "      <th>C4 per 1,000</th>\n",
       "      <th>C2-C4 per 1,000</th>\n",
       "      <th>Opioid Rx per 1,000</th>\n",
       "      <th>Pop w Opioid Rx per 1,000</th>\n",
       "    </tr>\n",
       "  </thead>\n",
       "  <tbody>\n",
       "    <tr>\n",
       "      <th>0</th>\n",
       "      <td>0</td>\n",
       "      <td>90001</td>\n",
       "      <td>Los Angeles</td>\n",
       "      <td>CA</td>\n",
       "      <td>2016</td>\n",
       "      <td>57942</td>\n",
       "      <td>29520</td>\n",
       "      <td>50.9</td>\n",
       "      <td>28422</td>\n",
       "      <td>49.1</td>\n",
       "      <td>...</td>\n",
       "      <td>31.031031</td>\n",
       "      <td>423.768596</td>\n",
       "      <td>62.614338</td>\n",
       "      <td>56.711884</td>\n",
       "      <td>14.549032</td>\n",
       "      <td>3.468986</td>\n",
       "      <td>29.512271</td>\n",
       "      <td>47.530289</td>\n",
       "      <td>135.980808</td>\n",
       "      <td>72.520797</td>\n",
       "    </tr>\n",
       "  </tbody>\n",
       "</table>\n",
       "<p>1 rows × 45 columns</p>\n",
       "</div>"
      ],
      "text/plain": [
       "   Unnamed: 0    Zip       County State  Year  Total Pop  Male Pop  Pct Male  \\\n",
       "0           0  90001  Los Angeles    CA  2016      57942     29520      50.9   \n",
       "\n",
       "   Female Pop  Pct Female            ...              AS per 1,000  \\\n",
       "0       28422        49.1            ...                 31.031031   \n",
       "\n",
       "   ED per 1,000  IP per 1,000  IP via ED per 1,000  C2 per 1,000  \\\n",
       "0    423.768596     62.614338            56.711884     14.549032   \n",
       "\n",
       "   C3 per 1,000  C4 per 1,000  C2-C4 per 1,000 Opioid Rx per 1,000  \\\n",
       "0      3.468986     29.512271        47.530289          135.980808   \n",
       "\n",
       "   Pop w Opioid Rx per 1,000  \n",
       "0                  72.520797  \n",
       "\n",
       "[1 rows x 45 columns]"
      ]
     },
     "execution_count": 50,
     "metadata": {},
     "output_type": "execute_result"
    }
   ],
   "source": [
    "csv = \"Combined_Hosp_Drug_Util_v2.csv\"\n",
    "csv2 = \"C:/Users/pedro/Downloads/Public_Table11.csv\"\n",
    "\n",
    "\n",
    "df = pd.read_csv(csv)\n",
    "df.head(1)"
   ]
  },
  {
   "cell_type": "code",
   "execution_count": null,
   "metadata": {},
   "outputs": [],
   "source": []
  },
  {
   "cell_type": "markdown",
   "metadata": {},
   "source": [
    "## 2016 Prescribed Scheduled Drugs (Southern California)"
   ]
  },
  {
   "cell_type": "code",
   "execution_count": 51,
   "metadata": {},
   "outputs": [
    {
     "data": {
      "text/html": [
       "<div>\n",
       "<style scoped>\n",
       "    .dataframe tbody tr th:only-of-type {\n",
       "        vertical-align: middle;\n",
       "    }\n",
       "\n",
       "    .dataframe tbody tr th {\n",
       "        vertical-align: top;\n",
       "    }\n",
       "\n",
       "    .dataframe thead th {\n",
       "        text-align: right;\n",
       "    }\n",
       "</style>\n",
       "<table border=\"1\" class=\"dataframe\">\n",
       "  <thead>\n",
       "    <tr style=\"text-align: right;\">\n",
       "      <th></th>\n",
       "      <th>Schedule 2</th>\n",
       "      <th>Schedule 3</th>\n",
       "      <th>Schedule 4</th>\n",
       "    </tr>\n",
       "    <tr>\n",
       "      <th>County</th>\n",
       "      <th></th>\n",
       "      <th></th>\n",
       "      <th></th>\n",
       "    </tr>\n",
       "  </thead>\n",
       "  <tbody>\n",
       "    <tr>\n",
       "      <th>Alameda</th>\n",
       "      <td>15793.0</td>\n",
       "      <td>2046.0</td>\n",
       "      <td>11715.0</td>\n",
       "    </tr>\n",
       "  </tbody>\n",
       "</table>\n",
       "</div>"
      ],
      "text/plain": [
       "         Schedule 2  Schedule 3  Schedule 4\n",
       "County                                     \n",
       "Alameda     15793.0      2046.0     11715.0"
      ]
     },
     "execution_count": 51,
     "metadata": {},
     "output_type": "execute_result"
    }
   ],
   "source": [
    "#Scheduled Drugs PER 1,000 by County \n",
    "\n",
    "drugs = df[df.Year == 2016]\n",
    "drugs = df.groupby(\"County\", as_index=True)[\"C2 per 1,000\",\"C3 per 1,000\",\"C4 per 1,000\"].sum()\n",
    "drugs = round(drugs)\n",
    "drugs = drugs.rename(columns={\"C2 per 1,000\":\"Schedule 2\", \"C3 per 1,000\":\"Schedule 3\",\n",
    "                              \"C4 per 1,000\":\"Schedule 4\"})\n",
    "drugs.head(1)"
   ]
  },
  {
   "cell_type": "code",
   "execution_count": 52,
   "metadata": {},
   "outputs": [
    {
     "data": {
      "text/html": [
       "<div>\n",
       "<style scoped>\n",
       "    .dataframe tbody tr th:only-of-type {\n",
       "        vertical-align: middle;\n",
       "    }\n",
       "\n",
       "    .dataframe tbody tr th {\n",
       "        vertical-align: top;\n",
       "    }\n",
       "\n",
       "    .dataframe thead th {\n",
       "        text-align: right;\n",
       "    }\n",
       "</style>\n",
       "<table border=\"1\" class=\"dataframe\">\n",
       "  <thead>\n",
       "    <tr style=\"text-align: right;\">\n",
       "      <th></th>\n",
       "      <th>Schedule 2</th>\n",
       "      <th>Schedule 3</th>\n",
       "      <th>Schedule 4</th>\n",
       "    </tr>\n",
       "    <tr>\n",
       "      <th>County</th>\n",
       "      <th></th>\n",
       "      <th></th>\n",
       "      <th></th>\n",
       "    </tr>\n",
       "  </thead>\n",
       "  <tbody>\n",
       "    <tr>\n",
       "      <th>Imperial</th>\n",
       "      <td>987.0</td>\n",
       "      <td>171.0</td>\n",
       "      <td>1310.0</td>\n",
       "    </tr>\n",
       "    <tr>\n",
       "      <th>Kern</th>\n",
       "      <td>14489.0</td>\n",
       "      <td>2242.0</td>\n",
       "      <td>15734.0</td>\n",
       "    </tr>\n",
       "    <tr>\n",
       "      <th>Los Angeles</th>\n",
       "      <td>91936.0</td>\n",
       "      <td>20379.0</td>\n",
       "      <td>122860.0</td>\n",
       "    </tr>\n",
       "    <tr>\n",
       "      <th>Orange</th>\n",
       "      <td>32296.0</td>\n",
       "      <td>6026.0</td>\n",
       "      <td>34793.0</td>\n",
       "    </tr>\n",
       "    <tr>\n",
       "      <th>Riverside</th>\n",
       "      <td>27248.0</td>\n",
       "      <td>4555.0</td>\n",
       "      <td>27988.0</td>\n",
       "    </tr>\n",
       "    <tr>\n",
       "      <th>San Bernardino</th>\n",
       "      <td>19770.0</td>\n",
       "      <td>3307.0</td>\n",
       "      <td>19969.0</td>\n",
       "    </tr>\n",
       "    <tr>\n",
       "      <th>San Diego</th>\n",
       "      <td>37534.0</td>\n",
       "      <td>6201.0</td>\n",
       "      <td>33676.0</td>\n",
       "    </tr>\n",
       "    <tr>\n",
       "      <th>San Luis Obispo</th>\n",
       "      <td>6011.0</td>\n",
       "      <td>1424.0</td>\n",
       "      <td>7937.0</td>\n",
       "    </tr>\n",
       "    <tr>\n",
       "      <th>Santa Barbara</th>\n",
       "      <td>7055.0</td>\n",
       "      <td>1293.0</td>\n",
       "      <td>9070.0</td>\n",
       "    </tr>\n",
       "    <tr>\n",
       "      <th>Ventura</th>\n",
       "      <td>7088.0</td>\n",
       "      <td>1298.0</td>\n",
       "      <td>8162.0</td>\n",
       "    </tr>\n",
       "  </tbody>\n",
       "</table>\n",
       "</div>"
      ],
      "text/plain": [
       "                 Schedule 2  Schedule 3  Schedule 4\n",
       "County                                             \n",
       "Imperial              987.0       171.0      1310.0\n",
       "Kern                14489.0      2242.0     15734.0\n",
       "Los Angeles         91936.0     20379.0    122860.0\n",
       "Orange              32296.0      6026.0     34793.0\n",
       "Riverside           27248.0      4555.0     27988.0\n",
       "San Bernardino      19770.0      3307.0     19969.0\n",
       "San Diego           37534.0      6201.0     33676.0\n",
       "San Luis Obispo      6011.0      1424.0      7937.0\n",
       "Santa Barbara        7055.0      1293.0      9070.0\n",
       "Ventura              7088.0      1298.0      8162.0"
      ]
     },
     "execution_count": 52,
     "metadata": {},
     "output_type": "execute_result"
    }
   ],
   "source": [
    "#Southern California Prescribed Scheduled Drugs\n",
    "\n",
    "drugs_socal = drugs.loc[(\"Imperial\",\"Kern\",\"Los Angeles\",\"Orange\",\"Riverside\",\"San Bernardino\",\n",
    "                \"San Diego\",\"San Luis Obispo\",\"Santa Barbara\",\n",
    "                \"Ventura\"),:]\n",
    "\n",
    "drugs_socal"
   ]
  },
  {
   "cell_type": "code",
   "execution_count": 53,
   "metadata": {},
   "outputs": [
    {
     "data": {
      "text/plain": [
       "<matplotlib.axes._subplots.AxesSubplot at 0x1f3882b54e0>"
      ]
     },
     "execution_count": 53,
     "metadata": {},
     "output_type": "execute_result"
    },
    {
     "data": {
      "image/png": "[encoded data removed]",
      "text/plain": [
       "<Figure size 432x288 with 1 Axes>"
      ]
     },
     "metadata": {},
     "output_type": "display_data"
    }
   ],
   "source": [
    "#NUMBER OF PATIENTS WITH PRESCRIBED SCHEDULED DRUGS (BY COUNTY IN SOUTHERN CALIFORNIA)\n",
    "\n",
    "drugs_socal.plot(kind=\"bar\")"
   ]
  },
  {
   "cell_type": "code",
   "execution_count": null,
   "metadata": {},
   "outputs": [],
   "source": []
  },
  {
   "cell_type": "markdown",
   "metadata": {},
   "source": [
    "## 2016 Prescription Volume vs ER Volume"
   ]
  },
  {
   "cell_type": "code",
   "execution_count": 54,
   "metadata": {},
   "outputs": [
    {
     "data": {
      "text/html": [
       "<div>\n",
       "<style scoped>\n",
       "    .dataframe tbody tr th:only-of-type {\n",
       "        vertical-align: middle;\n",
       "    }\n",
       "\n",
       "    .dataframe tbody tr th {\n",
       "        vertical-align: top;\n",
       "    }\n",
       "\n",
       "    .dataframe thead th {\n",
       "        text-align: right;\n",
       "    }\n",
       "</style>\n",
       "<table border=\"1\" class=\"dataframe\">\n",
       "  <thead>\n",
       "    <tr style=\"text-align: right;\">\n",
       "      <th></th>\n",
       "      <th>Unnamed: 0</th>\n",
       "      <th>Zip</th>\n",
       "      <th>County</th>\n",
       "      <th>State</th>\n",
       "      <th>Year</th>\n",
       "      <th>Total Pop</th>\n",
       "      <th>Male Pop</th>\n",
       "      <th>Pct Male</th>\n",
       "      <th>Female Pop</th>\n",
       "      <th>Pct Female</th>\n",
       "      <th>...</th>\n",
       "      <th>AS per 1,000</th>\n",
       "      <th>ED per 1,000</th>\n",
       "      <th>IP per 1,000</th>\n",
       "      <th>IP via ED per 1,000</th>\n",
       "      <th>C2 per 1,000</th>\n",
       "      <th>C3 per 1,000</th>\n",
       "      <th>C4 per 1,000</th>\n",
       "      <th>C2-C4 per 1,000</th>\n",
       "      <th>Opioid Rx per 1,000</th>\n",
       "      <th>Pop w Opioid Rx per 1,000</th>\n",
       "    </tr>\n",
       "  </thead>\n",
       "  <tbody>\n",
       "    <tr>\n",
       "      <th>0</th>\n",
       "      <td>0</td>\n",
       "      <td>90001</td>\n",
       "      <td>Los Angeles</td>\n",
       "      <td>CA</td>\n",
       "      <td>2016</td>\n",
       "      <td>57942</td>\n",
       "      <td>29520</td>\n",
       "      <td>50.9</td>\n",
       "      <td>28422</td>\n",
       "      <td>49.1</td>\n",
       "      <td>...</td>\n",
       "      <td>31.031031</td>\n",
       "      <td>423.768596</td>\n",
       "      <td>62.614338</td>\n",
       "      <td>56.711884</td>\n",
       "      <td>14.549032</td>\n",
       "      <td>3.468986</td>\n",
       "      <td>29.512271</td>\n",
       "      <td>47.530289</td>\n",
       "      <td>135.980808</td>\n",
       "      <td>72.520797</td>\n",
       "    </tr>\n",
       "  </tbody>\n",
       "</table>\n",
       "<p>1 rows × 45 columns</p>\n",
       "</div>"
      ],
      "text/plain": [
       "   Unnamed: 0    Zip       County State  Year  Total Pop  Male Pop  Pct Male  \\\n",
       "0           0  90001  Los Angeles    CA  2016      57942     29520      50.9   \n",
       "\n",
       "   Female Pop  Pct Female            ...              AS per 1,000  \\\n",
       "0       28422        49.1            ...                 31.031031   \n",
       "\n",
       "   ED per 1,000  IP per 1,000  IP via ED per 1,000  C2 per 1,000  \\\n",
       "0    423.768596     62.614338            56.711884     14.549032   \n",
       "\n",
       "   C3 per 1,000  C4 per 1,000  C2-C4 per 1,000 Opioid Rx per 1,000  \\\n",
       "0      3.468986     29.512271        47.530289          135.980808   \n",
       "\n",
       "   Pop w Opioid Rx per 1,000  \n",
       "0                  72.520797  \n",
       "\n",
       "[1 rows x 45 columns]"
      ]
     },
     "execution_count": 54,
     "metadata": {},
     "output_type": "execute_result"
    }
   ],
   "source": [
    "df.head(1)"
   ]
  },
  {
   "cell_type": "code",
   "execution_count": 55,
   "metadata": {},
   "outputs": [
    {
     "data": {
      "text/html": [
       "<div>\n",
       "<style scoped>\n",
       "    .dataframe tbody tr th:only-of-type {\n",
       "        vertical-align: middle;\n",
       "    }\n",
       "\n",
       "    .dataframe tbody tr th {\n",
       "        vertical-align: top;\n",
       "    }\n",
       "\n",
       "    .dataframe thead th {\n",
       "        text-align: right;\n",
       "    }\n",
       "</style>\n",
       "<table border=\"1\" class=\"dataframe\">\n",
       "  <thead>\n",
       "    <tr style=\"text-align: right;\">\n",
       "      <th></th>\n",
       "      <th>ED per 1,000</th>\n",
       "      <th>C2-C4 per 1,000</th>\n",
       "    </tr>\n",
       "    <tr>\n",
       "      <th>County</th>\n",
       "      <th></th>\n",
       "      <th></th>\n",
       "    </tr>\n",
       "  </thead>\n",
       "  <tbody>\n",
       "    <tr>\n",
       "      <th>Alameda</th>\n",
       "      <td>13192.0</td>\n",
       "      <td>29554.0</td>\n",
       "    </tr>\n",
       "  </tbody>\n",
       "</table>\n",
       "</div>"
      ],
      "text/plain": [
       "         ED per 1,000  C2-C4 per 1,000\n",
       "County                                \n",
       "Alameda       13192.0          29554.0"
      ]
     },
     "execution_count": 55,
     "metadata": {},
     "output_type": "execute_result"
    }
   ],
   "source": [
    "prescription = df[df[\"Year\"]==2016]\n",
    "prescription = df.groupby(\"County\")[[\"ED per 1,000\",\"C2-C4 per 1,000\"]].sum()\n",
    "prescription = round(prescription)\n",
    "prescription.head(1)"
   ]
  },
  {
   "cell_type": "code",
   "execution_count": 56,
   "metadata": {},
   "outputs": [
    {
     "data": {
      "text/html": [
       "<div>\n",
       "<style scoped>\n",
       "    .dataframe tbody tr th:only-of-type {\n",
       "        vertical-align: middle;\n",
       "    }\n",
       "\n",
       "    .dataframe tbody tr th {\n",
       "        vertical-align: top;\n",
       "    }\n",
       "\n",
       "    .dataframe thead th {\n",
       "        text-align: right;\n",
       "    }\n",
       "</style>\n",
       "<table border=\"1\" class=\"dataframe\">\n",
       "  <thead>\n",
       "    <tr style=\"text-align: right;\">\n",
       "      <th></th>\n",
       "      <th>ED per 1,000</th>\n",
       "      <th>C2-C4 per 1,000</th>\n",
       "    </tr>\n",
       "    <tr>\n",
       "      <th>County</th>\n",
       "      <th></th>\n",
       "      <th></th>\n",
       "    </tr>\n",
       "  </thead>\n",
       "  <tbody>\n",
       "    <tr>\n",
       "      <th>Imperial</th>\n",
       "      <td>4893.0</td>\n",
       "      <td>2412.0</td>\n",
       "    </tr>\n",
       "    <tr>\n",
       "      <th>Kern</th>\n",
       "      <td>16401.0</td>\n",
       "      <td>32464.0</td>\n",
       "    </tr>\n",
       "    <tr>\n",
       "      <th>Los Angeles</th>\n",
       "      <td>77267.0</td>\n",
       "      <td>235176.0</td>\n",
       "    </tr>\n",
       "    <tr>\n",
       "      <th>Orange</th>\n",
       "      <td>19162.0</td>\n",
       "      <td>73114.0</td>\n",
       "    </tr>\n",
       "    <tr>\n",
       "      <th>Riverside</th>\n",
       "      <td>22692.0</td>\n",
       "      <td>59792.0</td>\n",
       "    </tr>\n",
       "    <tr>\n",
       "      <th>San Bernardino</th>\n",
       "      <td>36267.0</td>\n",
       "      <td>43045.0</td>\n",
       "    </tr>\n",
       "    <tr>\n",
       "      <th>San Diego</th>\n",
       "      <td>24645.0</td>\n",
       "      <td>77412.0</td>\n",
       "    </tr>\n",
       "    <tr>\n",
       "      <th>San Luis Obispo</th>\n",
       "      <td>6219.0</td>\n",
       "      <td>15372.0</td>\n",
       "    </tr>\n",
       "    <tr>\n",
       "      <th>Santa Barbara</th>\n",
       "      <td>6051.0</td>\n",
       "      <td>17418.0</td>\n",
       "    </tr>\n",
       "    <tr>\n",
       "      <th>Ventura</th>\n",
       "      <td>6129.0</td>\n",
       "      <td>16547.0</td>\n",
       "    </tr>\n",
       "  </tbody>\n",
       "</table>\n",
       "</div>"
      ],
      "text/plain": [
       "                 ED per 1,000  C2-C4 per 1,000\n",
       "County                                        \n",
       "Imperial               4893.0           2412.0\n",
       "Kern                  16401.0          32464.0\n",
       "Los Angeles           77267.0         235176.0\n",
       "Orange                19162.0          73114.0\n",
       "Riverside             22692.0          59792.0\n",
       "San Bernardino        36267.0          43045.0\n",
       "San Diego             24645.0          77412.0\n",
       "San Luis Obispo        6219.0          15372.0\n",
       "Santa Barbara          6051.0          17418.0\n",
       "Ventura                6129.0          16547.0"
      ]
     },
     "execution_count": 56,
     "metadata": {},
     "output_type": "execute_result"
    }
   ],
   "source": [
    "#Southern California - ER Volume & Scheduled Drugs Volume per 1,000\n",
    "\n",
    "prescription_socal = prescription.loc[(\"Imperial\",\"Kern\",\"Los Angeles\",\"Orange\",\"Riverside\",\"San Bernardino\",\n",
    "                \"San Diego\",\"San Luis Obispo\",\"Santa Barbara\",\n",
    "                \"Ventura\"),:]\n",
    "\n",
    "prescription_socal"
   ]
  },
  {
   "cell_type": "code",
   "execution_count": 57,
   "metadata": {},
   "outputs": [
    {
     "data": {
      "text/plain": [
       "<matplotlib.axes._subplots.AxesSubplot at 0x1f3883525f8>"
      ]
     },
     "execution_count": 57,
     "metadata": {},
     "output_type": "execute_result"
    },
    {
     "data": {
      "image/png": "[encoded data removed]",
      "text/plain": [
       "<Figure size 432x288 with 1 Axes>"
      ]
     },
     "metadata": {},
     "output_type": "display_data"
    }
   ],
   "source": [
    "prescription_socal.plot(kind=\"bar\")"
   ]
  },
  {
   "cell_type": "code",
   "execution_count": null,
   "metadata": {},
   "outputs": [],
   "source": []
  },
  {
   "cell_type": "markdown",
   "metadata": {},
   "source": [
    "## 2016 Rx Count by Age Group (All California)"
   ]
  },
  {
   "cell_type": "code",
   "execution_count": 62,
   "metadata": {},
   "outputs": [
    {
     "data": {
      "text/html": [
       "<div>\n",
       "<style scoped>\n",
       "    .dataframe tbody tr th:only-of-type {\n",
       "        vertical-align: middle;\n",
       "    }\n",
       "\n",
       "    .dataframe tbody tr th {\n",
       "        vertical-align: top;\n",
       "    }\n",
       "\n",
       "    .dataframe thead th {\n",
       "        text-align: right;\n",
       "    }\n",
       "</style>\n",
       "<table border=\"1\" class=\"dataframe\">\n",
       "  <thead>\n",
       "    <tr style=\"text-align: right;\">\n",
       "      <th></th>\n",
       "      <th>xYear</th>\n",
       "      <th>Schedule_Group</th>\n",
       "      <th>Age_Group</th>\n",
       "      <th>RxCount</th>\n",
       "    </tr>\n",
       "  </thead>\n",
       "  <tbody>\n",
       "    <tr>\n",
       "      <th>15</th>\n",
       "      <td>2016</td>\n",
       "      <td>2</td>\n",
       "      <td>15-24 yrs</td>\n",
       "      <td>817743</td>\n",
       "    </tr>\n",
       "    <tr>\n",
       "      <th>16</th>\n",
       "      <td>2016</td>\n",
       "      <td>2</td>\n",
       "      <td>25-44 yrs</td>\n",
       "      <td>2960620</td>\n",
       "    </tr>\n",
       "  </tbody>\n",
       "</table>\n",
       "</div>"
      ],
      "text/plain": [
       "    xYear  Schedule_Group  Age_Group  RxCount\n",
       "15   2016               2  15-24 yrs   817743\n",
       "16   2016               2  25-44 yrs  2960620"
      ]
     },
     "execution_count": 62,
     "metadata": {},
     "output_type": "execute_result"
    }
   ],
   "source": [
    "#2016 RxCount by Age Group\n",
    "\n",
    "age = pd.read_csv(csv2)\n",
    "age = age.drop(columns={\"State\",\"rundatetime\",\"PillCount\",\"MeanPill_byRx\"})\n",
    "age = age[age[\"xYear\"] == 2016]\n",
    "age.head(2)"
   ]
  },
  {
   "cell_type": "code",
   "execution_count": 63,
   "metadata": {},
   "outputs": [
    {
     "data": {
      "text/html": [
       "<div>\n",
       "<style scoped>\n",
       "    .dataframe tbody tr th:only-of-type {\n",
       "        vertical-align: middle;\n",
       "    }\n",
       "\n",
       "    .dataframe tbody tr th {\n",
       "        vertical-align: top;\n",
       "    }\n",
       "\n",
       "    .dataframe thead th {\n",
       "        text-align: right;\n",
       "    }\n",
       "</style>\n",
       "<table border=\"1\" class=\"dataframe\">\n",
       "  <thead>\n",
       "    <tr style=\"text-align: right;\">\n",
       "      <th>Schedule_Group</th>\n",
       "      <th>2</th>\n",
       "      <th>3</th>\n",
       "      <th>4</th>\n",
       "    </tr>\n",
       "    <tr>\n",
       "      <th>Age_Group</th>\n",
       "      <th></th>\n",
       "      <th></th>\n",
       "      <th></th>\n",
       "    </tr>\n",
       "  </thead>\n",
       "  <tbody>\n",
       "    <tr>\n",
       "      <th>15-24 yrs</th>\n",
       "      <td>817743</td>\n",
       "      <td>108993</td>\n",
       "      <td>369556</td>\n",
       "    </tr>\n",
       "    <tr>\n",
       "      <th>25-44 yrs</th>\n",
       "      <td>2960620</td>\n",
       "      <td>394618</td>\n",
       "      <td>2836102</td>\n",
       "    </tr>\n",
       "    <tr>\n",
       "      <th>45-64 yrs</th>\n",
       "      <td>5273204</td>\n",
       "      <td>537798</td>\n",
       "      <td>5910148</td>\n",
       "    </tr>\n",
       "    <tr>\n",
       "      <th>=&lt; 14 yrs</th>\n",
       "      <td>546320</td>\n",
       "      <td>15753</td>\n",
       "      <td>139634</td>\n",
       "    </tr>\n",
       "    <tr>\n",
       "      <th>&gt;= 65 yrs</th>\n",
       "      <td>3299667</td>\n",
       "      <td>360730</td>\n",
       "      <td>4157589</td>\n",
       "    </tr>\n",
       "  </tbody>\n",
       "</table>\n",
       "</div>"
      ],
      "text/plain": [
       "Schedule_Group        2       3        4\n",
       "Age_Group                               \n",
       "15-24 yrs        817743  108993   369556\n",
       "25-44 yrs       2960620  394618  2836102\n",
       "45-64 yrs       5273204  537798  5910148\n",
       "=< 14 yrs        546320   15753   139634\n",
       ">= 65 yrs       3299667  360730  4157589"
      ]
     },
     "execution_count": 63,
     "metadata": {},
     "output_type": "execute_result"
    }
   ],
   "source": [
    "age_grouped = age.pivot_table(index=\"Age_Group\", columns = \"Schedule_Group\", values = \"RxCount\", aggfunc = sum)\n",
    "age_grouped"
   ]
  },
  {
   "cell_type": "code",
   "execution_count": 65,
   "metadata": {},
   "outputs": [
    {
     "data": {
      "text/plain": [
       "<matplotlib.axes._subplots.AxesSubplot at 0x1f3883efcc0>"
      ]
     },
     "execution_count": 65,
     "metadata": {},
     "output_type": "execute_result"
    },
    {
     "data": {
      "image/png": "[encoded data removed]",
      "text/plain": [
       "<Figure size 432x288 with 1 Axes>"
      ]
     },
     "metadata": {},
     "output_type": "display_data"
    }
   ],
   "source": [
    "age_grouped.plot(kind=\"bar\")"
   ]
  },
  {
   "cell_type": "code",
   "execution_count": null,
   "metadata": {},
   "outputs": [],
   "source": []
  }
 ],
 "metadata": {
  "kernelspec": {
   "display_name": "Python 3",
   "language": "python",
   "name": "python3"
  },
  "language_info": {
   "codemirror_mode": {
    "name": "ipython",
    "version": 3
   },
   "file_extension": ".py",
   "mimetype": "text/x-python",
   "name": "python",
   "nbconvert_exporter": "python",
   "pygments_lexer": "ipython3",
   "version": "3.6.5"
  }
 },
 "nbformat": 4,
 "nbformat_minor": 2
}
