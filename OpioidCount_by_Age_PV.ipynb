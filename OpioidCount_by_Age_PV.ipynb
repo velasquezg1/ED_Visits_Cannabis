{
 "cells": [
  {
   "cell_type": "code",
   "execution_count": 80,
   "metadata": {},
   "outputs": [],
   "source": [
    "import pandas as pd\n",
    "import matplotlib.pyplot as plt"
   ]
  },
  {
   "cell_type": "markdown",
   "metadata": {},
   "source": [
    "# Data Sources"
   ]
  },
  {
   "cell_type": "code",
   "execution_count": 81,
   "metadata": {},
   "outputs": [],
   "source": [
    "csv2 = \"C:/Users/pedro/Downloads/Public_Table11.csv\""
   ]
  },
  {
   "cell_type": "markdown",
   "metadata": {},
   "source": [
    "## 2016 Rx Count by Age Group (All California)"
   ]
  },
  {
   "cell_type": "code",
   "execution_count": 82,
   "metadata": {},
   "outputs": [
    {
     "data": {
      "text/html": [
       "<div>\n",
       "<style scoped>\n",
       "    .dataframe tbody tr th:only-of-type {\n",
       "        vertical-align: middle;\n",
       "    }\n",
       "\n",
       "    .dataframe tbody tr th {\n",
       "        vertical-align: top;\n",
       "    }\n",
       "\n",
       "    .dataframe thead th {\n",
       "        text-align: right;\n",
       "    }\n",
       "</style>\n",
       "<table border=\"1\" class=\"dataframe\">\n",
       "  <thead>\n",
       "    <tr style=\"text-align: right;\">\n",
       "      <th></th>\n",
       "      <th>xYear</th>\n",
       "      <th>Schedule_Group</th>\n",
       "      <th>Age_Group</th>\n",
       "      <th>RxCount</th>\n",
       "    </tr>\n",
       "  </thead>\n",
       "  <tbody>\n",
       "    <tr>\n",
       "      <th>15</th>\n",
       "      <td>2016</td>\n",
       "      <td>2</td>\n",
       "      <td>15-24 yrs</td>\n",
       "      <td>817743</td>\n",
       "    </tr>\n",
       "    <tr>\n",
       "      <th>16</th>\n",
       "      <td>2016</td>\n",
       "      <td>2</td>\n",
       "      <td>25-44 yrs</td>\n",
       "      <td>2960620</td>\n",
       "    </tr>\n",
       "  </tbody>\n",
       "</table>\n",
       "</div>"
      ],
      "text/plain": [
       "    xYear  Schedule_Group  Age_Group  RxCount\n",
       "15   2016               2  15-24 yrs   817743\n",
       "16   2016               2  25-44 yrs  2960620"
      ]
     },
     "execution_count": 82,
     "metadata": {},
     "output_type": "execute_result"
    }
   ],
   "source": [
    "#2016 RxCount by Age Group\n",
    "age = pd.read_csv(csv2)\n",
    "age = age.drop(columns={\"State\",\"rundatetime\",\"PillCount\",\"MeanPill_byRx\"})\n",
    "age = age[age[\"xYear\"] == 2016]\n",
    "age.head(2)"
   ]
  },
  {
   "cell_type": "code",
   "execution_count": 83,
   "metadata": {},
   "outputs": [
    {
     "data": {
      "text/html": [
       "<div>\n",
       "<style scoped>\n",
       "    .dataframe tbody tr th:only-of-type {\n",
       "        vertical-align: middle;\n",
       "    }\n",
       "\n",
       "    .dataframe tbody tr th {\n",
       "        vertical-align: top;\n",
       "    }\n",
       "\n",
       "    .dataframe thead th {\n",
       "        text-align: right;\n",
       "    }\n",
       "</style>\n",
       "<table border=\"1\" class=\"dataframe\">\n",
       "  <thead>\n",
       "    <tr style=\"text-align: right;\">\n",
       "      <th></th>\n",
       "      <th>RxCount</th>\n",
       "    </tr>\n",
       "    <tr>\n",
       "      <th>Age_Group</th>\n",
       "      <th></th>\n",
       "    </tr>\n",
       "  </thead>\n",
       "  <tbody>\n",
       "    <tr>\n",
       "      <th>15-24 yrs</th>\n",
       "      <td>817743</td>\n",
       "    </tr>\n",
       "    <tr>\n",
       "      <th>25-44 yrs</th>\n",
       "      <td>2960620</td>\n",
       "    </tr>\n",
       "    <tr>\n",
       "      <th>45-64 yrs</th>\n",
       "      <td>5273204</td>\n",
       "    </tr>\n",
       "    <tr>\n",
       "      <th>=&lt; 14 yrs</th>\n",
       "      <td>546320</td>\n",
       "    </tr>\n",
       "    <tr>\n",
       "      <th>&gt;= 65 yrs</th>\n",
       "      <td>3299667</td>\n",
       "    </tr>\n",
       "  </tbody>\n",
       "</table>\n",
       "</div>"
      ],
      "text/plain": [
       "           RxCount\n",
       "Age_Group         \n",
       "15-24 yrs   817743\n",
       "25-44 yrs  2960620\n",
       "45-64 yrs  5273204\n",
       "=< 14 yrs   546320\n",
       ">= 65 yrs  3299667"
      ]
     },
     "execution_count": 83,
     "metadata": {},
     "output_type": "execute_result"
    }
   ],
   "source": [
    "#Filtered to Opioid Drugs (Schedule 2)\n",
    "age_opioids = age[age[\"Schedule_Group\"] == 2]\n",
    "age_opioids = age_opioids.drop(columns={\"xYear\",\"Schedule_Group\"})\n",
    "age_opioids = age_opioids.set_index(\"Age_Group\")\n",
    "age_opioids"
   ]
  },
  {
   "cell_type": "code",
   "execution_count": 104,
   "metadata": {},
   "outputs": [
    {
     "data": {
      "image/png": "[encoded data removed]",
      "text/plain": [
       "<Figure size 432x288 with 1 Axes>"
      ]
     },
     "metadata": {},
     "output_type": "display_data"
    }
   ],
   "source": [
    "plt.pie(age_opioids[\"RxCount\"], \n",
    "        labels = age_opioids.index, \n",
    "        explode=[0,0,0,0,0],\n",
    "        autopct = \"%1.1f%%\",\n",
    "        colors = [\"darkkhaki\",\"skyblue\",\"steelblue\",\"y\",\"lightgreen\"],\n",
    "        shadow = True,\n",
    "        startangle = 100)\n",
    "\n",
    "plt.title(\"2016 Prescribed Opioid Count by Age\", fontsize = 14, y=1.03)\n",
    "plt.axis(\"equal\")\n",
    "\n",
    "plt.show()"
   ]
  },
  {
   "cell_type": "code",
   "execution_count": null,
   "metadata": {},
   "outputs": [],
   "source": []
  },
  {
   "cell_type": "code",
   "execution_count": null,
   "metadata": {},
   "outputs": [],
   "source": []
  }
 ],
 "metadata": {
  "kernelspec": {
   "display_name": "Python 3",
   "language": "python",
   "name": "python3"
  },
  "language_info": {
   "codemirror_mode": {
    "name": "ipython",
    "version": 3
   },
   "file_extension": ".py",
   "mimetype": "text/x-python",
   "name": "python",
   "nbconvert_exporter": "python",
   "pygments_lexer": "ipython3",
   "version": "3.6.5"
  }
 },
 "nbformat": 4,
 "nbformat_minor": 2
}
