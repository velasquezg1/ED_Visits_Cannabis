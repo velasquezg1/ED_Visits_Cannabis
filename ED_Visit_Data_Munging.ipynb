{
 "cells": [
  {
   "cell_type": "markdown",
   "metadata": {},
   "source": [
    "#### Import Data Sets from the following sources and transform to one record per zip code:\n",
    "\n",
    "* 2016 Census population estimates by zip code from factfinder.census.gov\n",
    "* OSHPD hospital and emergency room utilization data by zip code from oshpd.ca.gov\n",
    "* ESRI Tapestry consumer segmentation data by zip code from ESRI / ArcGIS\n",
    "* CA Area Deprivation Index by zip code from https://www.neighborhoodatlas.medicine.wisc.edu/\n",
    "* Schedule drug metrics by zip code from ...\n",
    "\n",
    "#### Merge data sets into one dataframe and calculate ratios:\n",
    "\n",
    "* Hosp and ED util per 1,000 population\n",
    "* "
   ]
  },
  {
   "cell_type": "code",
   "execution_count": 17,
   "metadata": {},
   "outputs": [],
   "source": [
    "%matplotlib inline\n",
    "import pandas as pd\n",
    "import numpy as np\n",
    "import matplotlib.pyplot as plt\n",
    "import pylab as plb\n",
    "import matplotlib.ticker as mtick\n",
    "import scipy.stats as stats"
   ]
  },
  {
   "cell_type": "code",
   "execution_count": 2,
   "metadata": {
    "scrolled": true
   },
   "outputs": [
    {
     "data": {
      "text/html": [
       "<div>\n",
       "<style scoped>\n",
       "    .dataframe tbody tr th:only-of-type {\n",
       "        vertical-align: middle;\n",
       "    }\n",
       "\n",
       "    .dataframe tbody tr th {\n",
       "        vertical-align: top;\n",
       "    }\n",
       "\n",
       "    .dataframe thead th {\n",
       "        text-align: right;\n",
       "    }\n",
       "</style>\n",
       "<table border=\"1\" class=\"dataframe\">\n",
       "  <thead>\n",
       "    <tr style=\"text-align: right;\">\n",
       "      <th></th>\n",
       "      <th>Zip</th>\n",
       "      <th>2016_Census_Pop_Est</th>\n",
       "    </tr>\n",
       "  </thead>\n",
       "  <tbody>\n",
       "    <tr>\n",
       "      <th>6</th>\n",
       "      <td>90001</td>\n",
       "      <td>57942</td>\n",
       "    </tr>\n",
       "    <tr>\n",
       "      <th>7</th>\n",
       "      <td>90002</td>\n",
       "      <td>51826</td>\n",
       "    </tr>\n",
       "    <tr>\n",
       "      <th>8</th>\n",
       "      <td>90003</td>\n",
       "      <td>70208</td>\n",
       "    </tr>\n",
       "    <tr>\n",
       "      <th>9</th>\n",
       "      <td>90004</td>\n",
       "      <td>63095</td>\n",
       "    </tr>\n",
       "    <tr>\n",
       "      <th>10</th>\n",
       "      <td>90005</td>\n",
       "      <td>39338</td>\n",
       "    </tr>\n",
       "  </tbody>\n",
       "</table>\n",
       "</div>"
      ],
      "text/plain": [
       "      Zip  2016_Census_Pop_Est\n",
       "6   90001                57942\n",
       "7   90002                51826\n",
       "8   90003                70208\n",
       "9   90004                63095\n",
       "10  90005                39338"
      ]
     },
     "execution_count": 2,
     "metadata": {},
     "output_type": "execute_result"
    }
   ],
   "source": [
    "# Read 2016 census population estimates\n",
    "ca_census_pop_2016_df = pd.read_csv(\"ACS_16_5YR_B01003_with_ann.csv\",skiprows=1)\n",
    "ca_census_df = ca_census_pop_2016_df[['Id2','Estimate; Total']]\n",
    "ca_census_df = ca_census_df.rename(columns={'Id2':'Zip','Estimate; Total':'2016_Census_Pop_Est'})\n",
    "\n",
    "# drop non-CA zips\n",
    "ca_census_df = ca_census_df.drop([0,1,2,3,4,5]) # NV zips\n",
    "\n",
    "#ca_census_df.count()\n",
    "ca_census_df.head()"
   ]
  },
  {
   "cell_type": "code",
   "execution_count": 3,
   "metadata": {},
   "outputs": [],
   "source": [
    "# Read 2016 census population estimates with some age/sex detail\n",
    "ca_census_demo_df = pd.read_csv(\"ACS_16_5YR_DP05_with_ann.csv\",skiprows=1)\n",
    "ca_census_demo_df = ca_census_demo_df.rename(columns={'Id2':'Zip','Estimate; Total':'2016_Census_Pop_Est'})\n",
    "\n",
    "# drop non-CA zips\n",
    "ca_census_demo_df = ca_census_demo_df.drop([0,1,2,3,4,5]) # NV zips\n",
    "#ca_census_demo_df.head()"
   ]
  },
  {
   "cell_type": "code",
   "execution_count": 4,
   "metadata": {},
   "outputs": [
    {
     "data": {
      "text/html": [
       "<div>\n",
       "<style scoped>\n",
       "    .dataframe tbody tr th:only-of-type {\n",
       "        vertical-align: middle;\n",
       "    }\n",
       "\n",
       "    .dataframe tbody tr th {\n",
       "        vertical-align: top;\n",
       "    }\n",
       "\n",
       "    .dataframe thead th {\n",
       "        text-align: right;\n",
       "    }\n",
       "</style>\n",
       "<table border=\"1\" class=\"dataframe\">\n",
       "  <thead>\n",
       "    <tr style=\"text-align: right;\">\n",
       "      <th>pattype</th>\n",
       "      <th>pzip</th>\n",
       "      <th>pcounty</th>\n",
       "      <th>year</th>\n",
       "      <th>AS Only</th>\n",
       "      <th>ED Only</th>\n",
       "      <th>Inpatient</th>\n",
       "      <th>Inpatient from ED</th>\n",
       "    </tr>\n",
       "  </thead>\n",
       "  <tbody>\n",
       "    <tr>\n",
       "      <th>0</th>\n",
       "      <td>90001</td>\n",
       "      <td>LOS ANGELES</td>\n",
       "      <td>2016</td>\n",
       "      <td>1798.0</td>\n",
       "      <td>24554.0</td>\n",
       "      <td>3628.0</td>\n",
       "      <td>3286.0</td>\n",
       "    </tr>\n",
       "    <tr>\n",
       "      <th>1</th>\n",
       "      <td>90002</td>\n",
       "      <td>LOS ANGELES</td>\n",
       "      <td>2016</td>\n",
       "      <td>1661.0</td>\n",
       "      <td>25168.0</td>\n",
       "      <td>3421.0</td>\n",
       "      <td>3314.0</td>\n",
       "    </tr>\n",
       "    <tr>\n",
       "      <th>2</th>\n",
       "      <td>90003</td>\n",
       "      <td>LOS ANGELES</td>\n",
       "      <td>2016</td>\n",
       "      <td>2111.0</td>\n",
       "      <td>32061.0</td>\n",
       "      <td>4610.0</td>\n",
       "      <td>4648.0</td>\n",
       "    </tr>\n",
       "    <tr>\n",
       "      <th>3</th>\n",
       "      <td>90004</td>\n",
       "      <td>LOS ANGELES</td>\n",
       "      <td>2016</td>\n",
       "      <td>2115.0</td>\n",
       "      <td>15820.0</td>\n",
       "      <td>2751.0</td>\n",
       "      <td>2639.0</td>\n",
       "    </tr>\n",
       "    <tr>\n",
       "      <th>4</th>\n",
       "      <td>90005</td>\n",
       "      <td>LOS ANGELES</td>\n",
       "      <td>2016</td>\n",
       "      <td>1107.0</td>\n",
       "      <td>8650.0</td>\n",
       "      <td>1579.0</td>\n",
       "      <td>1488.0</td>\n",
       "    </tr>\n",
       "  </tbody>\n",
       "</table>\n",
       "</div>"
      ],
      "text/plain": [
       "pattype   pzip      pcounty  year  AS Only  ED Only  Inpatient  \\\n",
       "0        90001  LOS ANGELES  2016   1798.0  24554.0     3628.0   \n",
       "1        90002  LOS ANGELES  2016   1661.0  25168.0     3421.0   \n",
       "2        90003  LOS ANGELES  2016   2111.0  32061.0     4610.0   \n",
       "3        90004  LOS ANGELES  2016   2115.0  15820.0     2751.0   \n",
       "4        90005  LOS ANGELES  2016   1107.0   8650.0     1579.0   \n",
       "\n",
       "pattype  Inpatient from ED  \n",
       "0                   3286.0  \n",
       "1                   3314.0  \n",
       "2                   4648.0  \n",
       "3                   2639.0  \n",
       "4                   1488.0  "
      ]
     },
     "execution_count": 4,
     "metadata": {},
     "output_type": "execute_result"
    }
   ],
   "source": [
    "# Read 2016 CA OSHPD Utilization file\n",
    "ca_hosp_2016_df = pd.read_csv(\"POMS2016.csv\")\n",
    "\n",
    "# Limit to data that can be aggregated by pt zip code\n",
    "ca_hosp_2016_df = ca_hosp_2016_df[['pzip','pcounty','year','pattype','discharges']]\n",
    "\n",
    "# Use groupby to summarize discharges by pzip, pcounty, year and pattype\n",
    "ca_hosp_2016_df = ca_hosp_2016_df.groupby(['pzip','pcounty','year','pattype']).sum()\n",
    "ca_hosp_2016_df = ca_hosp_2016_df.reset_index()\n",
    "ca_hosp_2016_df = ca_hosp_2016_df.set_index(['pzip','pcounty','year'])\n",
    "ca_hosp_2016_df = ca_hosp_2016_df.pivot_table(index=['pzip','pcounty','year'], columns='pattype',values='discharges').reset_index()\n",
    "\n",
    "# drop records with no zip code (ie. ARIZONA, HOMELESS, etc in pzip column)\n",
    "ca_hosp_2016_df = ca_hosp_2016_df.drop([2672,2673,2674,2675,2676,2677,2678])\n",
    "\n",
    "# convert pzip from string to int\n",
    "ca_hosp_2016_df['pzip'] = ca_hosp_2016_df['pzip'].apply(pd.to_numeric)\n",
    "\n",
    "#ca_hosp_2016_df.count()\n",
    "ca_hosp_2016_df.head()"
   ]
  },
  {
   "cell_type": "code",
   "execution_count": 64,
   "metadata": {},
   "outputs": [
    {
     "data": {
      "text/html": [
       "<div>\n",
       "<style scoped>\n",
       "    .dataframe tbody tr th:only-of-type {\n",
       "        vertical-align: middle;\n",
       "    }\n",
       "\n",
       "    .dataframe tbody tr th {\n",
       "        vertical-align: top;\n",
       "    }\n",
       "\n",
       "    .dataframe thead th {\n",
       "        text-align: right;\n",
       "    }\n",
       "</style>\n",
       "<table border=\"1\" class=\"dataframe\">\n",
       "  <thead>\n",
       "    <tr style=\"text-align: right;\">\n",
       "      <th>Schedule_Group</th>\n",
       "      <th>Zip</th>\n",
       "      <th>County</th>\n",
       "      <th>State</th>\n",
       "      <th>xYear</th>\n",
       "      <th>C2</th>\n",
       "      <th>C3</th>\n",
       "      <th>C4</th>\n",
       "      <th>C2-C4</th>\n",
       "    </tr>\n",
       "  </thead>\n",
       "  <tbody>\n",
       "    <tr>\n",
       "      <th>0</th>\n",
       "      <td>90001</td>\n",
       "      <td>Los Angeles</td>\n",
       "      <td>CA</td>\n",
       "      <td>2016</td>\n",
       "      <td>843</td>\n",
       "      <td>201</td>\n",
       "      <td>1710</td>\n",
       "      <td>2754</td>\n",
       "    </tr>\n",
       "    <tr>\n",
       "      <th>1</th>\n",
       "      <td>90002</td>\n",
       "      <td>Los Angeles</td>\n",
       "      <td>CA</td>\n",
       "      <td>2016</td>\n",
       "      <td>357</td>\n",
       "      <td>767</td>\n",
       "      <td>1059</td>\n",
       "      <td>2183</td>\n",
       "    </tr>\n",
       "    <tr>\n",
       "      <th>2</th>\n",
       "      <td>90003</td>\n",
       "      <td>Los Angeles</td>\n",
       "      <td>CA</td>\n",
       "      <td>2016</td>\n",
       "      <td>1329</td>\n",
       "      <td>259</td>\n",
       "      <td>2440</td>\n",
       "      <td>4028</td>\n",
       "    </tr>\n",
       "    <tr>\n",
       "      <th>3</th>\n",
       "      <td>90004</td>\n",
       "      <td>Los Angeles</td>\n",
       "      <td>CA</td>\n",
       "      <td>2016</td>\n",
       "      <td>3582</td>\n",
       "      <td>1707</td>\n",
       "      <td>5002</td>\n",
       "      <td>10291</td>\n",
       "    </tr>\n",
       "    <tr>\n",
       "      <th>4</th>\n",
       "      <td>90005</td>\n",
       "      <td>Los Angeles</td>\n",
       "      <td>CA</td>\n",
       "      <td>2016</td>\n",
       "      <td>439</td>\n",
       "      <td>1403</td>\n",
       "      <td>1434</td>\n",
       "      <td>3276</td>\n",
       "    </tr>\n",
       "  </tbody>\n",
       "</table>\n",
       "</div>"
      ],
      "text/plain": [
       "Schedule_Group    Zip       County State  xYear    C2    C3    C4  C2-C4\n",
       "0               90001  Los Angeles    CA   2016   843   201  1710   2754\n",
       "1               90002  Los Angeles    CA   2016   357   767  1059   2183\n",
       "2               90003  Los Angeles    CA   2016  1329   259  2440   4028\n",
       "3               90004  Los Angeles    CA   2016  3582  1707  5002  10291\n",
       "4               90005  Los Angeles    CA   2016   439  1403  1434   3276"
      ]
     },
     "execution_count": 64,
     "metadata": {},
     "output_type": "execute_result"
    }
   ],
   "source": [
    "drug_sched_df = pd.read_csv(\"schedule_drugs_table9_presciptions_by_year_locale_drugschedule.csv\")\n",
    "\n",
    "# create dataframe with only 2016 drug data\n",
    "drug_sched_2016_df = drug_sched_df.loc[drug_sched_df['xYear']==2016]\n",
    "\n",
    "drug_sched_2016_df = drug_sched_2016_df[['Zip','County','State','xYear','Schedule_Group','RxCount']]\n",
    "drug_sched_2016_df = drug_sched_2016_df.set_index(['Zip','County','State','xYear'])\n",
    "drug_sched_2016_df = drug_sched_2016_df.pivot_table(index=['Zip','County','State','xYear'], columns='Schedule_Group', values='RxCount').reset_index()\n",
    "drug_sched_2016_df = drug_sched_2016_df.rename(columns={'2':'C2','3':'C3','4':'C4','All':'C2-C4'})\n",
    "#drug_sched_2016_df['C2 per 1,000'] = drug_sched_2016_df['C2']/drug_sched_2016_df['Population']\n",
    "drug_sched_2016_df.head()\n"
   ]
  },
  {
   "cell_type": "code",
   "execution_count": 74,
   "metadata": {
    "scrolled": true
   },
   "outputs": [
    {
     "data": {
      "text/html": [
       "<div>\n",
       "<style scoped>\n",
       "    .dataframe tbody tr th:only-of-type {\n",
       "        vertical-align: middle;\n",
       "    }\n",
       "\n",
       "    .dataframe tbody tr th {\n",
       "        vertical-align: top;\n",
       "    }\n",
       "\n",
       "    .dataframe thead th {\n",
       "        text-align: right;\n",
       "    }\n",
       "</style>\n",
       "<table border=\"1\" class=\"dataframe\">\n",
       "  <thead>\n",
       "    <tr style=\"text-align: right;\">\n",
       "      <th></th>\n",
       "      <th>Zip</th>\n",
       "      <th>County</th>\n",
       "      <th>State</th>\n",
       "      <th>Rx_count_Dis</th>\n",
       "      <th>C2</th>\n",
       "      <th>C3</th>\n",
       "      <th>C4</th>\n",
       "      <th>C2-C4</th>\n",
       "      <th>Pct_C2</th>\n",
       "      <th>Pct_C2-C4</th>\n",
       "    </tr>\n",
       "  </thead>\n",
       "  <tbody>\n",
       "    <tr>\n",
       "      <th>0</th>\n",
       "      <td>90001</td>\n",
       "      <td>Los Angeles</td>\n",
       "      <td>CA</td>\n",
       "      <td>7653</td>\n",
       "      <td>843</td>\n",
       "      <td>201</td>\n",
       "      <td>1710</td>\n",
       "      <td>2754</td>\n",
       "      <td>0.110153</td>\n",
       "      <td>0.359859</td>\n",
       "    </tr>\n",
       "    <tr>\n",
       "      <th>1</th>\n",
       "      <td>90002</td>\n",
       "      <td>Los Angeles</td>\n",
       "      <td>CA</td>\n",
       "      <td>6483</td>\n",
       "      <td>357</td>\n",
       "      <td>767</td>\n",
       "      <td>1059</td>\n",
       "      <td>2183</td>\n",
       "      <td>0.055067</td>\n",
       "      <td>0.336727</td>\n",
       "    </tr>\n",
       "    <tr>\n",
       "      <th>2</th>\n",
       "      <td>90003</td>\n",
       "      <td>Los Angeles</td>\n",
       "      <td>CA</td>\n",
       "      <td>484</td>\n",
       "      <td>1329</td>\n",
       "      <td>259</td>\n",
       "      <td>2440</td>\n",
       "      <td>4028</td>\n",
       "      <td>2.745868</td>\n",
       "      <td>8.322314</td>\n",
       "    </tr>\n",
       "    <tr>\n",
       "      <th>3</th>\n",
       "      <td>90004</td>\n",
       "      <td>Los Angeles</td>\n",
       "      <td>CA</td>\n",
       "      <td>3318</td>\n",
       "      <td>3582</td>\n",
       "      <td>1707</td>\n",
       "      <td>5002</td>\n",
       "      <td>10291</td>\n",
       "      <td>1.079566</td>\n",
       "      <td>3.101567</td>\n",
       "    </tr>\n",
       "    <tr>\n",
       "      <th>4</th>\n",
       "      <td>90005</td>\n",
       "      <td>Los Angeles</td>\n",
       "      <td>CA</td>\n",
       "      <td>1579</td>\n",
       "      <td>439</td>\n",
       "      <td>1403</td>\n",
       "      <td>1434</td>\n",
       "      <td>3276</td>\n",
       "      <td>0.278024</td>\n",
       "      <td>2.074731</td>\n",
       "    </tr>\n",
       "  </tbody>\n",
       "</table>\n",
       "</div>"
      ],
      "text/plain": [
       "     Zip       County State  Rx_count_Dis    C2    C3    C4  C2-C4    Pct_C2  \\\n",
       "0  90001  Los Angeles    CA          7653   843   201  1710   2754  0.110153   \n",
       "1  90002  Los Angeles    CA          6483   357   767  1059   2183  0.055067   \n",
       "2  90003  Los Angeles    CA           484  1329   259  2440   4028  2.745868   \n",
       "3  90004  Los Angeles    CA          3318  3582  1707  5002  10291  1.079566   \n",
       "4  90005  Los Angeles    CA          1579   439  1403  1434   3276  0.278024   \n",
       "\n",
       "   Pct_C2-C4  \n",
       "0   0.359859  \n",
       "1   0.336727  \n",
       "2   8.322314  \n",
       "3   3.101567  \n",
       "4   2.074731  "
      ]
     },
     "execution_count": 74,
     "metadata": {},
     "output_type": "execute_result"
    }
   ],
   "source": [
    "drug_metrics_df = pd.read_csv(\"schedule_drugs_table2_metrics_by_year_and_zip.csv\")\n",
    "\n",
    "# create dataframe with only 2016 drug data\n",
    "drug_metrics_2016_df = drug_metrics_df.loc[drug_metrics_df['xYear']==2016]\n",
    "\n",
    "#drug_metrics_df.sort_values('Zip')\n",
    "# what % of records are unique Zips\n",
    "drug_metrics_2016_df['Zip'].nunique()/drug_metrics_2016_df['Zip'].count()\n",
    "\n",
    "rx_count_2016_df = drug_metrics_2016_df[['Zip','Rx_count_Dis']]\n",
    "\n",
    "# Merge controlled Rx with total Rx count\n",
    "rx_data_df = rx_count_2016_df.merge(drug_sched_2016_df,on='Zip', how='outer')\n",
    "rx_data_df = rx_data_df[['Zip','County','State','Rx_count_Dis','C2','C3','C4','C2-C4']]\n",
    "\n",
    "# Calculate C2 penetration & C2-C4 penetration rates\n",
    "rx_data_df['Pct_C2'] = rx_data_df['C2']/rx_data_df['Rx_count_Dis']\n",
    "rx_data_df['Pct_C2-C4'] = rx_data_df['C2-C4']/rx_data_df['Rx_count_Dis']\n",
    "\n",
    "rx_data_df.head()"
   ]
  },
  {
   "cell_type": "code",
   "execution_count": 5,
   "metadata": {
    "scrolled": false
   },
   "outputs": [
    {
     "data": {
      "text/html": [
       "<div>\n",
       "<style scoped>\n",
       "    .dataframe tbody tr th:only-of-type {\n",
       "        vertical-align: middle;\n",
       "    }\n",
       "\n",
       "    .dataframe tbody tr th {\n",
       "        vertical-align: top;\n",
       "    }\n",
       "\n",
       "    .dataframe thead th {\n",
       "        text-align: right;\n",
       "    }\n",
       "</style>\n",
       "<table border=\"1\" class=\"dataframe\">\n",
       "  <thead>\n",
       "    <tr style=\"text-align: right;\">\n",
       "      <th></th>\n",
       "      <th>ZIP Code</th>\n",
       "      <th>NAME</th>\n",
       "      <th>Dominant Tapestry Segment Number per Zip</th>\n",
       "      <th>Dominant Tapestry Segment Code per Zip</th>\n",
       "      <th>Dominant Tapestry Segment Name per Zip</th>\n",
       "      <th>Dominant Lifemode Code</th>\n",
       "      <th>Dominant Lifemode Group Name</th>\n",
       "    </tr>\n",
       "  </thead>\n",
       "  <tbody>\n",
       "    <tr>\n",
       "      <th>0</th>\n",
       "      <td>90001.0</td>\n",
       "      <td>Los Angeles</td>\n",
       "      <td>61.0</td>\n",
       "      <td>13B</td>\n",
       "      <td>Las Casas</td>\n",
       "      <td>13.0</td>\n",
       "      <td>Next Wave</td>\n",
       "    </tr>\n",
       "    <tr>\n",
       "      <th>1</th>\n",
       "      <td>90002.0</td>\n",
       "      <td>Los Angeles</td>\n",
       "      <td>61.0</td>\n",
       "      <td>13B</td>\n",
       "      <td>Las Casas</td>\n",
       "      <td>13.0</td>\n",
       "      <td>Next Wave</td>\n",
       "    </tr>\n",
       "    <tr>\n",
       "      <th>2</th>\n",
       "      <td>90003.0</td>\n",
       "      <td>Los Angeles</td>\n",
       "      <td>61.0</td>\n",
       "      <td>13B</td>\n",
       "      <td>Las Casas</td>\n",
       "      <td>13.0</td>\n",
       "      <td>Next Wave</td>\n",
       "    </tr>\n",
       "    <tr>\n",
       "      <th>3</th>\n",
       "      <td>90004.0</td>\n",
       "      <td>Los Angeles</td>\n",
       "      <td>60.0</td>\n",
       "      <td>13A</td>\n",
       "      <td>International Marketplace</td>\n",
       "      <td>13.0</td>\n",
       "      <td>Next Wave</td>\n",
       "    </tr>\n",
       "    <tr>\n",
       "      <th>4</th>\n",
       "      <td>90005.0</td>\n",
       "      <td>Los Angeles</td>\n",
       "      <td>62.0</td>\n",
       "      <td>13C</td>\n",
       "      <td>NeWest Residents</td>\n",
       "      <td>13.0</td>\n",
       "      <td>Next Wave</td>\n",
       "    </tr>\n",
       "  </tbody>\n",
       "</table>\n",
       "</div>"
      ],
      "text/plain": [
       "   ZIP Code         NAME  Dominant Tapestry Segment Number per Zip  \\\n",
       "0   90001.0  Los Angeles                                      61.0   \n",
       "1   90002.0  Los Angeles                                      61.0   \n",
       "2   90003.0  Los Angeles                                      61.0   \n",
       "3   90004.0  Los Angeles                                      60.0   \n",
       "4   90005.0  Los Angeles                                      62.0   \n",
       "\n",
       "  Dominant Tapestry Segment Code per Zip  \\\n",
       "0                                    13B   \n",
       "1                                    13B   \n",
       "2                                    13B   \n",
       "3                                    13A   \n",
       "4                                    13C   \n",
       "\n",
       "  Dominant Tapestry Segment Name per Zip  Dominant Lifemode Code  \\\n",
       "0                              Las Casas                    13.0   \n",
       "1                              Las Casas                    13.0   \n",
       "2                              Las Casas                    13.0   \n",
       "3              International Marketplace                    13.0   \n",
       "4                       NeWest Residents                    13.0   \n",
       "\n",
       "  Dominant Lifemode Group Name  \n",
       "0                    Next Wave  \n",
       "1                    Next Wave  \n",
       "2                    Next Wave  \n",
       "3                    Next Wave  \n",
       "4                    Next Wave  "
      ]
     },
     "execution_count": 5,
     "metadata": {},
     "output_type": "execute_result"
    }
   ],
   "source": [
    "# Read Tapestry segments by CA zip\n",
    "tapestry_df = pd.read_csv(\"Tapestry_by_CA_Zip.csv\")\n",
    "tapestry_df.head()"
   ]
  },
  {
   "cell_type": "code",
   "execution_count": 6,
   "metadata": {},
   "outputs": [
    {
     "data": {
      "text/html": [
       "<div>\n",
       "<style scoped>\n",
       "    .dataframe tbody tr th:only-of-type {\n",
       "        vertical-align: middle;\n",
       "    }\n",
       "\n",
       "    .dataframe tbody tr th {\n",
       "        vertical-align: top;\n",
       "    }\n",
       "\n",
       "    .dataframe thead th {\n",
       "        text-align: right;\n",
       "    }\n",
       "</style>\n",
       "<table border=\"1\" class=\"dataframe\">\n",
       "  <thead>\n",
       "    <tr style=\"text-align: right;\">\n",
       "      <th></th>\n",
       "      <th>Zip</th>\n",
       "      <th>ADI_STATERNK</th>\n",
       "      <th>ADI_NATRANK</th>\n",
       "    </tr>\n",
       "  </thead>\n",
       "  <tbody>\n",
       "    <tr>\n",
       "      <th>0</th>\n",
       "      <td>90001</td>\n",
       "      <td>8.007138</td>\n",
       "      <td>45.794018</td>\n",
       "    </tr>\n",
       "    <tr>\n",
       "      <th>1</th>\n",
       "      <td>90002</td>\n",
       "      <td>8.125497</td>\n",
       "      <td>50.517541</td>\n",
       "    </tr>\n",
       "    <tr>\n",
       "      <th>2</th>\n",
       "      <td>90003</td>\n",
       "      <td>7.972540</td>\n",
       "      <td>46.906751</td>\n",
       "    </tr>\n",
       "    <tr>\n",
       "      <th>3</th>\n",
       "      <td>90004</td>\n",
       "      <td>4.238019</td>\n",
       "      <td>28.200175</td>\n",
       "    </tr>\n",
       "    <tr>\n",
       "      <th>4</th>\n",
       "      <td>90005</td>\n",
       "      <td>7.225923</td>\n",
       "      <td>57.775878</td>\n",
       "    </tr>\n",
       "  </tbody>\n",
       "</table>\n",
       "</div>"
      ],
      "text/plain": [
       "     Zip  ADI_STATERNK  ADI_NATRANK\n",
       "0  90001      8.007138    45.794018\n",
       "1  90002      8.125497    50.517541\n",
       "2  90003      7.972540    46.906751\n",
       "3  90004      4.238019    28.200175\n",
       "4  90005      7.225923    57.775878"
      ]
     },
     "execution_count": 6,
     "metadata": {},
     "output_type": "execute_result"
    }
   ],
   "source": [
    "ca_adi_df = pd.read_csv(\"CA_ADI_by_ZIP.csv\")\n",
    "ca_adi_df.head()"
   ]
  },
  {
   "cell_type": "markdown",
   "metadata": {},
   "source": [
    "####  Merge all relevant data sets into one dataframe"
   ]
  },
  {
   "cell_type": "code",
   "execution_count": 12,
   "metadata": {},
   "outputs": [
    {
     "data": {
      "text/plain": [
       "1.0"
      ]
     },
     "execution_count": 12,
     "metadata": {},
     "output_type": "execute_result"
    }
   ],
   "source": [
    "combo1_df = ca_census_df.merge(ca_hosp_2016_df, left_on='Zip', right_on='pzip', how='outer')\n",
    "\n",
    "# Add Ambulatory Surgery (AS), Emergency Dept (ED), Inpatient (discharges) and Inpatient from ED utilization rates per 1,000 pop\n",
    "combo1_df['AS per 1,000'] = combo1_df['AS Only'] / combo1_df['2016_Census_Pop_Est']\n",
    "combo1_df['ED per 1,000'] = combo1_df['ED Only'] / combo1_df['2016_Census_Pop_Est']\n",
    "combo1_df['IP per 1,000'] = combo1_df['Inpatient'] / combo1_df['2016_Census_Pop_Est']\n",
    "combo1_df['IP via ED per 1,000'] = combo1_df['Inpatient from ED'] / combo1_df['2016_Census_Pop_Est']\n",
    "\n",
    "combo1_df.head()\n",
    "\n",
    "# what % of records are unique Zips\n",
    "combo1_df['Zip'].nunique()/combo1_df['Zip'].count()"
   ]
  },
  {
   "cell_type": "code",
   "execution_count": 89,
   "metadata": {
    "scrolled": true
   },
   "outputs": [
    {
     "data": {
      "text/plain": [
       "Zip                    2611\n",
       "2016_Census_Pop_Est    1769\n",
       "pzip                   2672\n",
       "pcounty                2672\n",
       "year                   2672\n",
       "AS Only                2457\n",
       "ED Only                2634\n",
       "Inpatient              2504\n",
       "Inpatient from ED      2500\n",
       "AS per 1,000           1753\n",
       "ED per 1,000           1763\n",
       "IP per 1,000           1753\n",
       "IP via ED per 1,000    1753\n",
       "County                 2603\n",
       "State                  2603\n",
       "Rx_count_Dis           2603\n",
       "C2                     2603\n",
       "C3                     2603\n",
       "C4                     2603\n",
       "C2-C4                  2603\n",
       "Pct_C2                 1661\n",
       "Pct_C2-C4              1727\n",
       "C2 per 1,000           1745\n",
       "C3 per 1,000           1744\n",
       "C4 per 1,000           1744\n",
       "C2-C4 per 1,000        1745\n",
       "Tot Rx per 1,000       1740\n",
       "ADI_STATERNK           1582\n",
       "ADI_NATRANK            1582\n",
       "dtype: int64"
      ]
     },
     "execution_count": 89,
     "metadata": {},
     "output_type": "execute_result"
    }
   ],
   "source": [
    "# Merge all relevant data sets\n",
    "combo2_df = combo1_df.merge(rx_data_df, on='Zip', how='outer')\n",
    "\n",
    "# Calculate drug utilization ratios per 1,000 population\n",
    "combo2_df['C2 per 1,000'] = combo2_df['C2']/combo2_df['2016_Census_Pop_Est']\n",
    "combo2_df['C3 per 1,000'] = combo2_df['C3']/combo2_df['2016_Census_Pop_Est']\n",
    "combo2_df['C4 per 1,000'] = combo2_df['C4']/combo2_df['2016_Census_Pop_Est']\n",
    "combo2_df['C2-C4 per 1,000'] = combo2_df['C2-C4']/combo2_df['2016_Census_Pop_Est']\n",
    "combo2_df['Tot Rx per 1,000'] = combo2_df['Rx_count_Dis']/combo2_df['2016_Census_Pop_Est']\n",
    "\n",
    "\n",
    "combo3_df = combo2_df.merge(ca_adi_df, on='Zip', how='outer')\n",
    "combo3_df.count()"
   ]
  },
  {
   "cell_type": "code",
   "execution_count": 100,
   "metadata": {},
   "outputs": [],
   "source": [
    "# Remove duplicate columns\n",
    "combo4_df = combo3_df[['Zip','County','State','year','2016_Census_Pop_Est','AS Only','ED Only', \\\n",
    "                       'Inpatient','Inpatient from ED','AS per 1,000','ED per 1,000','IP per 1,000', \\\n",
    "                       'IP via ED per 1,000','Rx_count_Dis','C2','C3','C4','C2-C4','Pct_C2','Pct_C2-C4', \\\n",
    "                       'C2 per 1,000','C3 per 1,000','C4 per 1,000','C2-C4 per 1,000','Tot Rx per 1,000', \\\n",
    "                       'ADI_STATERNK','ADI_NATRANK']]\n",
    "\n",
    "# Clean null and infinite values from data\n",
    "combo5_df = combo4_df.replace([np.inf, -np.inf], np.nan)\n",
    "combo6_df = combo5_df.dropna(axis=0)\n",
    "combo6_df.count()\n",
    "\n",
    "combo6_df.to_csv(f\"Combined_Hosp_Drug_Util.csv\", encoding='utf-8')"
   ]
  },
  {
   "cell_type": "markdown",
   "metadata": {},
   "source": [
    "###  Calculate Regression Statistics"
   ]
  },
  {
   "cell_type": "code",
   "execution_count": 91,
   "metadata": {},
   "outputs": [
    {
     "data": {
      "text/plain": [
       "(0.5211458278184551, 3.8904119210874145e-77)"
      ]
     },
     "execution_count": 91,
     "metadata": {},
     "output_type": "execute_result"
    }
   ],
   "source": [
    "ind_var1 = list(combo6_df['ADI_STATERNK'])\n",
    "dep_var1 = list(combo6_df['ED per 1,000'])\n",
    "\n",
    "stats.pearsonr(ind_var1, dep_var1)"
   ]
  },
  {
   "cell_type": "code",
   "execution_count": 92,
   "metadata": {},
   "outputs": [
    {
     "data": {
      "text/plain": [
       "(0.5144571099349013, 6.88365281200494e-75)"
      ]
     },
     "execution_count": 92,
     "metadata": {},
     "output_type": "execute_result"
    }
   ],
   "source": [
    "ind_var2 = list(combo6_df['ADI_NATRANK'])\n",
    "dep_var1 = list(combo6_df['ED per 1,000'])\n",
    "\n",
    "stats.pearsonr(ind_var2, dep_var1)"
   ]
  },
  {
   "cell_type": "code",
   "execution_count": 93,
   "metadata": {},
   "outputs": [
    {
     "data": {
      "text/plain": [
       "(-0.04001223427108595, 0.18622070122079395)"
      ]
     },
     "execution_count": 93,
     "metadata": {},
     "output_type": "execute_result"
    }
   ],
   "source": [
    "ind_var2 = list(combo6_df['ADI_NATRANK'])\n",
    "dep_var2 = list(combo6_df['C2 per 1,000'])\n",
    "\n",
    "stats.pearsonr(ind_var2, dep_var2)"
   ]
  },
  {
   "cell_type": "code",
   "execution_count": 94,
   "metadata": {
    "scrolled": true
   },
   "outputs": [
    {
     "data": {
      "text/plain": [
       "<matplotlib.axes._subplots.AxesSubplot at 0x1db2f2725f8>"
      ]
     },
     "execution_count": 94,
     "metadata": {},
     "output_type": "execute_result"
    },
    {
     "data": {
      "image/png": "[encoded data removed]",
      "text/plain": [
       "<Figure size 432x288 with 1 Axes>"
      ]
     },
     "metadata": {},
     "output_type": "display_data"
    }
   ],
   "source": [
    "combo6_df.plot(x='ADI_STATERNK', y='ED per 1,000', kind='scatter', xlim=(0,11), ylim=(0,1), title='Area Deprivation Index (State Rank) vs. ED visits per 1,000 population')\n"
   ]
  },
  {
   "cell_type": "code",
   "execution_count": 95,
   "metadata": {},
   "outputs": [
    {
     "data": {
      "text/plain": [
       "<matplotlib.axes._subplots.AxesSubplot at 0x1db2f632710>"
      ]
     },
     "execution_count": 95,
     "metadata": {},
     "output_type": "execute_result"
    },
    {
     "data": {
      "image/png": "[encoded data removed]",
      "text/plain": [
       "<Figure size 432x288 with 1 Axes>"
      ]
     },
     "metadata": {},
     "output_type": "display_data"
    }
   ],
   "source": [
    "combo6_df.plot(x='ADI_NATRANK', y='ED per 1,000', kind='scatter', ylim=(0,1), title='Area Deprivation Index (Natl Rank) vs. ED visits per 1,000 population')"
   ]
  },
  {
   "cell_type": "code",
   "execution_count": 96,
   "metadata": {
    "scrolled": true
   },
   "outputs": [
    {
     "data": {
      "text/plain": [
       "<matplotlib.axes._subplots.AxesSubplot at 0x1db2f67c550>"
      ]
     },
     "execution_count": 96,
     "metadata": {},
     "output_type": "execute_result"
    },
    {
     "data": {
      "image/png": "[encoded data removed]",
      "text/plain": [
       "<Figure size 432x288 with 1 Axes>"
      ]
     },
     "metadata": {},
     "output_type": "display_data"
    }
   ],
   "source": [
    "combo6_df.plot(x='ADI_NATRANK', y='C2 per 1,000', kind='scatter', ylim=(0,1), title='Area Deprivation Index (Natl Rank) vs. ED visits per 1,000 population')"
   ]
  },
  {
   "cell_type": "code",
   "execution_count": null,
   "metadata": {},
   "outputs": [],
   "source": []
  }
 ],
 "metadata": {
  "kernelspec": {
   "display_name": "Python [conda env:PythonData]",
   "language": "python",
   "name": "conda-env-PythonData-py"
  },
  "language_info": {
   "codemirror_mode": {
    "name": "ipython",
    "version": 3
   },
   "file_extension": ".py",
   "mimetype": "text/x-python",
   "name": "python",
   "nbconvert_exporter": "python",
   "pygments_lexer": "ipython3",
   "version": "3.6.5"
  }
 },
 "nbformat": 4,
 "nbformat_minor": 2
}
