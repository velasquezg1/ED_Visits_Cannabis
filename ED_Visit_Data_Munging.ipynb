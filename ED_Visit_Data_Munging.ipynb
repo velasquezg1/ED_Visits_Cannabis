{
 "cells": [
  {
   "cell_type": "code",
   "execution_count": 1,
   "metadata": {},
   "outputs": [],
   "source": [
    "import pandas as pd"
   ]
  },
  {
   "cell_type": "code",
   "execution_count": 3,
   "metadata": {},
   "outputs": [
    {
     "data": {
      "text/html": [
       "<div>\n",
       "<style scoped>\n",
       "    .dataframe tbody tr th:only-of-type {\n",
       "        vertical-align: middle;\n",
       "    }\n",
       "\n",
       "    .dataframe tbody tr th {\n",
       "        vertical-align: top;\n",
       "    }\n",
       "\n",
       "    .dataframe thead th {\n",
       "        text-align: right;\n",
       "    }\n",
       "</style>\n",
       "<table border=\"1\" class=\"dataframe\">\n",
       "  <thead>\n",
       "    <tr style=\"text-align: right;\">\n",
       "      <th></th>\n",
       "      <th>oshpd_id</th>\n",
       "      <th>facility_name</th>\n",
       "      <th>county_name</th>\n",
       "      <th>pattype</th>\n",
       "      <th>pzip</th>\n",
       "      <th>pcounty</th>\n",
       "      <th>discharges</th>\n",
       "      <th>year</th>\n",
       "    </tr>\n",
       "  </thead>\n",
       "  <tbody>\n",
       "    <tr>\n",
       "      <th>0</th>\n",
       "      <td>10735</td>\n",
       "      <td>ALAMEDA HOSPITAL</td>\n",
       "      <td>ALAMEDA</td>\n",
       "      <td>AS Only</td>\n",
       "      <td>93635</td>\n",
       "      <td>MERCED</td>\n",
       "      <td>1</td>\n",
       "      <td>2016</td>\n",
       "    </tr>\n",
       "    <tr>\n",
       "      <th>1</th>\n",
       "      <td>10735</td>\n",
       "      <td>ALAMEDA HOSPITAL</td>\n",
       "      <td>ALAMEDA</td>\n",
       "      <td>AS Only</td>\n",
       "      <td>93722</td>\n",
       "      <td>FRESNO</td>\n",
       "      <td>1</td>\n",
       "      <td>2016</td>\n",
       "    </tr>\n",
       "    <tr>\n",
       "      <th>2</th>\n",
       "      <td>10735</td>\n",
       "      <td>ALAMEDA HOSPITAL</td>\n",
       "      <td>ALAMEDA</td>\n",
       "      <td>AS Only</td>\n",
       "      <td>94111</td>\n",
       "      <td>SAN FRANCISCO</td>\n",
       "      <td>1</td>\n",
       "      <td>2016</td>\n",
       "    </tr>\n",
       "    <tr>\n",
       "      <th>3</th>\n",
       "      <td>10735</td>\n",
       "      <td>ALAMEDA HOSPITAL</td>\n",
       "      <td>ALAMEDA</td>\n",
       "      <td>AS Only</td>\n",
       "      <td>94112</td>\n",
       "      <td>SAN FRANCISCO</td>\n",
       "      <td>1</td>\n",
       "      <td>2016</td>\n",
       "    </tr>\n",
       "    <tr>\n",
       "      <th>4</th>\n",
       "      <td>10735</td>\n",
       "      <td>ALAMEDA HOSPITAL</td>\n",
       "      <td>ALAMEDA</td>\n",
       "      <td>AS Only</td>\n",
       "      <td>94127</td>\n",
       "      <td>SAN FRANCISCO</td>\n",
       "      <td>2</td>\n",
       "      <td>2016</td>\n",
       "    </tr>\n",
       "  </tbody>\n",
       "</table>\n",
       "</div>"
      ],
      "text/plain": [
       "   oshpd_id     facility_name county_name  pattype   pzip        pcounty  \\\n",
       "0     10735  ALAMEDA HOSPITAL     ALAMEDA  AS Only  93635         MERCED   \n",
       "1     10735  ALAMEDA HOSPITAL     ALAMEDA  AS Only  93722         FRESNO   \n",
       "2     10735  ALAMEDA HOSPITAL     ALAMEDA  AS Only  94111  SAN FRANCISCO   \n",
       "3     10735  ALAMEDA HOSPITAL     ALAMEDA  AS Only  94112  SAN FRANCISCO   \n",
       "4     10735  ALAMEDA HOSPITAL     ALAMEDA  AS Only  94127  SAN FRANCISCO   \n",
       "\n",
       "   discharges  year  \n",
       "0           1  2016  \n",
       "1           1  2016  \n",
       "2           1  2016  \n",
       "3           1  2016  \n",
       "4           2  2016  "
      ]
     },
     "execution_count": 3,
     "metadata": {},
     "output_type": "execute_result"
    }
   ],
   "source": [
    "ca_poms_2016_pd = pd.read_csv(\"POMS2016.csv\")\n",
    "ca_poms_2016_pd.head()"
   ]
  },
  {
   "cell_type": "code",
   "execution_count": null,
   "metadata": {},
   "outputs": [],
   "source": []
  }
 ],
 "metadata": {
  "kernelspec": {
   "display_name": "Python [conda env:PythonData]",
   "language": "python",
   "name": "conda-env-PythonData-py"
  },
  "language_info": {
   "codemirror_mode": {
    "name": "ipython",
    "version": 3
   },
   "file_extension": ".py",
   "mimetype": "text/x-python",
   "name": "python",
   "nbconvert_exporter": "python",
   "pygments_lexer": "ipython3",
   "version": "3.6.5"
  }
 },
 "nbformat": 4,
 "nbformat_minor": 2
}
